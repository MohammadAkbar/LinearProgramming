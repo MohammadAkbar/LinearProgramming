{
 "cells": [
  {
   "cell_type": "markdown",
   "metadata": {},
   "source": [
    "# Car Manufacturing Optimization"
   ]
  },
  {
   "cell_type": "markdown",
   "metadata": {},
   "source": [
    "A factory produces 3 types of cars, the time needed to build each car is given in the table."
   ]
  },
  {
   "cell_type": "markdown",
   "metadata": {},
   "source": [
    "| Part     | Jetta | Audi | Porsche | Time Available |\n",
    "|----------|-------|------|---------|----------------|\n",
    "| Engine   | 1     | 2    | 1.5     | 12000          |\n",
    "| Steering | 0.6   | 0.6  | 1       | 4600           |\n",
    "| Brakes   | 0.5   | 0.3  | 0.5     | 2400           |\n",
    "| Profit   | 11    | 16   | 15      |                |"
   ]
  },
  {
   "cell_type": "markdown",
   "metadata": {},
   "source": [
    "How many of each should it produce?"
   ]
  },
  {
   "cell_type": "code",
   "execution_count": 33,
   "metadata": {},
   "outputs": [],
   "source": [
    "c = [-11, -16, -15]\n",
    "A = [[ 1 , 2 , 1.5 ],[ 0.6666 , 0.6666 , 1 ],[ 0.5 , 0.3333 , 0.5 ]]\n",
    "b = [ 12000 , 4600 , 2400 ]\n",
    "x0_bounds = (0,None)\n",
    "x1_bounds = (0,None)\n",
    "x2_bounds = (0,None)\n",
    "from scipy.optimize import linprog\n",
    "res = linprog(c , A_ub=A , b_ub=b, bounds = [x0_bounds,x1_bounds,x2_bounds], method='interior-point')"
   ]
  },
  {
   "cell_type": "code",
   "execution_count": 34,
   "metadata": {},
   "outputs": [
    {
     "name": "stdout",
     "output_type": "stream",
     "text": [
      "     con: array([], dtype=float64)\n",
      "     fun: -100202.15946288685\n",
      " message: 'Optimization terminated successfully.'\n",
      "     nit: 7\n",
      "   slack: array([3.41878185e-05, 1.30227645e-05, 6.82401878e-06])\n",
      "  status: 0\n",
      " success: True\n",
      "       x: array([ 599.88002212, 5099.43005434,  800.83989001])\n"
     ]
    }
   ],
   "source": [
    "print(res)"
   ]
  },
  {
   "cell_type": "markdown",
   "metadata": {},
   "source": [
    "## Solution\n",
    "The maximum profit is **100,200$**.<br>\n",
    "**Jetta** = 600<br>\n",
    "**Audi** = 5100<br>\n",
    "**Porsche** = 800<br>"
   ]
  },
  {
   "cell_type": "code",
   "execution_count": null,
   "metadata": {},
   "outputs": [],
   "source": []
  }
 ],
 "metadata": {
  "kernelspec": {
   "display_name": "Python 3",
   "language": "python",
   "name": "python3"
  },
  "language_info": {
   "codemirror_mode": {
    "name": "ipython",
    "version": 3
   },
   "file_extension": ".py",
   "mimetype": "text/x-python",
   "name": "python",
   "nbconvert_exporter": "python",
   "pygments_lexer": "ipython3",
   "version": "3.7.3"
  }
 },
 "nbformat": 4,
 "nbformat_minor": 2
}
