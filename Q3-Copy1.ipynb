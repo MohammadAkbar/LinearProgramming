{
 "cells": [
  {
   "cell_type": "markdown",
   "metadata": {},
   "source": [
    "**Q3 Max-Flow/Min-Cut**"
   ]
  },
  {
   "cell_type": "markdown",
   "metadata": {},
   "source": [
    "Goal : $Flow(A,B) = Capacity(A,B)$\n"
   ]
  },
  {
   "cell_type": "markdown",
   "metadata": {},
   "source": [
    "$\\Rightarrow \\sum\\limits_{e \\in A \\rightarrow B} f(e) - \\sum\\limits_{e \\in B \\rightarrow A} f(e) = \\sum\\limits_{e \\in A \\rightarrow B} c_e$"
   ]
  },
  {
   "cell_type": "markdown",
   "metadata": {},
   "source": [
    "let $u \\in A, v \\in B$ and $e = edge(u,v)$ in the residual graph.<br>\n",
    "residual edge capacity = original capacity - flow<br>\n",
    "$c_r = c_e - f(e) : e \\in A \\rightarrow B$"
   ]
  },
  {
   "cell_type": "markdown",
   "metadata": {},
   "source": [
    "By inspection the algorithm terminates when there is no path from $s \\rightarrow t$. Therefore $c_r = 0$ in the final residual graph."
   ]
  },
  {
   "cell_type": "markdown",
   "metadata": {},
   "source": [
    "$0 = c_e - f(e) \\Rightarrow f(e) = c_e : e \\in A \\rightarrow B$"
   ]
  },
  {
   "cell_type": "markdown",
   "metadata": {},
   "source": [
    "$\\sum\\limits_{e \\in A \\rightarrow B} f(e) - \\sum\\limits_{e \\in B \\rightarrow A} f(e) = \\sum\\limits_{e \\in A \\rightarrow B} c_e$\n",
    "<br>$\\Rightarrow \\sum\\limits_{e \\in A \\rightarrow B} (c_e) - \\sum\\limits_{e \\in B \\rightarrow A} f(e) = \\sum\\limits_{e \\in A \\rightarrow B} c_e$"
   ]
  },
  {
   "cell_type": "markdown",
   "metadata": {},
   "source": [
    "now we need to show that $f(e) = 0 : e \\in B \\rightarrow A$"
   ]
  },
  {
   "cell_type": "markdown",
   "metadata": {},
   "source": [
    "By inspection the algorithm terminates when there is no augmented path between $s$ and $t$.<br>\n",
    "If $f(e) > 0 : e \\in B \\rightarrow A$ then there exists path $P=\\{e_1, ... , e_k\\}$ with $c_{e_i}>0$ where $e \\in P$.<br>\n",
    "This is a contradiction, therefore $f(e) = 0 : e \\in B \\rightarrow A$."
   ]
  },
  {
   "cell_type": "markdown",
   "metadata": {},
   "source": [
    "$\\Rightarrow \\sum\\limits_{e \\in A \\rightarrow B} c_e - \\sum\\limits_{e \\in B \\rightarrow A} f(e) = \\sum\\limits_{e \\in A \\rightarrow B} c_e$\n",
    "<br>$\\Rightarrow \\sum\\limits_{e \\in A \\rightarrow B} c_e - \\sum\\limits_{e \\in B \\rightarrow A} (0) = \\sum\\limits_{e \\in A \\rightarrow B} c_e$\n",
    "<br>$\\Rightarrow \\sum\\limits_{e \\in A \\rightarrow B} c_e = \\sum\\limits_{e \\in A \\rightarrow B} c_e$\n",
    "<br>$\\Rightarrow Flow(A,B) = Capacity(A,B)$"
   ]
  },
  {
   "cell_type": "code",
   "execution_count": null,
   "metadata": {},
   "outputs": [],
   "source": []
  }
 ],
 "metadata": {
  "kernelspec": {
   "display_name": "Python 3",
   "language": "python",
   "name": "python3"
  },
  "language_info": {
   "codemirror_mode": {
    "name": "ipython",
    "version": 3
   },
   "file_extension": ".py",
   "mimetype": "text/x-python",
   "name": "python",
   "nbconvert_exporter": "python",
   "pygments_lexer": "ipython3",
   "version": "3.7.1"
  }
 },
 "nbformat": 4,
 "nbformat_minor": 2
}
