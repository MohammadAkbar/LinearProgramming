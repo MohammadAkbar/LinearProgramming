{
 "cells": [
  {
   "cell_type": "markdown",
   "metadata": {},
   "source": [
    "**Q4 2 Player Game**"
   ]
  },
  {
   "cell_type": "markdown",
   "metadata": {},
   "source": [
    "$l :$ probability for shooting left<br>\n",
    "$r :$ probability for shooting right<br>\n",
    "$s :$ score "
   ]
  },
  {
   "cell_type": "markdown",
   "metadata": {},
   "source": [
    "$\n",
    "\\begin{pmatrix} \n",
    "\\frac{1}{5}  &  \\frac{4}{5}\\\\\n",
    "\\frac{4}{5}  &  \\frac{2}{5}\n",
    "\\end{pmatrix}\n",
    "$"
   ]
  },
  {
   "cell_type": "markdown",
   "metadata": {},
   "source": [
    "$max : s $<br>\n",
    "$\\frac{1}{5}l + \\frac{4}{5}r \\geq s$<br> \n",
    "$\\frac{4}{5}l + \\frac{2}{5}r \\geq s$"
   ]
  },
  {
   "cell_type": "markdown",
   "metadata": {},
   "source": [
    "$r = 1 - l$<br>\n",
    "$max : s $<br>\n",
    "$\\frac{1}{5}l + \\frac{4}{5}(1-l) \\geq s$<br> \n",
    "$\\frac{4}{5}l + \\frac{2}{5}(1-l) \\geq s$"
   ]
  },
  {
   "cell_type": "markdown",
   "metadata": {},
   "source": [
    "$max : s $<br>\n",
    "$\\frac{1}{5}l - \\frac{4}{5}l + \\frac{4}{5} \\geq s$<br> \n",
    "$\\frac{4}{5}l - \\frac{2}{5}l + \\frac{2}{5} \\geq s$"
   ]
  },
  {
   "cell_type": "markdown",
   "metadata": {},
   "source": [
    "$max : s $<br>\n",
    "$-\\frac{3}{5}l + \\frac{4}{5} \\geq s$<br> \n",
    "$\\frac{2}{5}l + \\frac{2}{5} \\geq s$"
   ]
  },
  {
   "cell_type": "markdown",
   "metadata": {},
   "source": [
    "$-\\frac{3}{5}l + \\frac{4}{5} = \\frac{2}{5}l + \\frac{2}{5}$<br>\n",
    "$\\frac{4}{5} = l + \\frac{2}{5}$<br>\n",
    "$\\frac{2}{5} = l$, $\\frac{3}{5}=r$"
   ]
  },
  {
   "cell_type": "markdown",
   "metadata": {},
   "source": [
    "$\\frac{1}{5} \\times \\frac{2}{5} + \\frac{4}{5} \\times \\frac{3}{5} = \\frac{14}{5} = s$<br>\n",
    "$\\frac{4}{5} \\times \\frac{2}{5} + \\frac{2}{5} \\times \\frac{3}{5} = \\frac{14}{5} = s$"
   ]
  }
 ],
 "metadata": {
  "kernelspec": {
   "display_name": "Python 3",
   "language": "python",
   "name": "python3"
  },
  "language_info": {
   "codemirror_mode": {
    "name": "ipython",
    "version": 3
   },
   "file_extension": ".py",
   "mimetype": "text/x-python",
   "name": "python",
   "nbconvert_exporter": "python",
   "pygments_lexer": "ipython3",
   "version": "3.7.1"
  }
 },
 "nbformat": 4,
 "nbformat_minor": 2
}
