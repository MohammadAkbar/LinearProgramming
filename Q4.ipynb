{
 "cells": [
  {
   "cell_type": "markdown",
   "metadata": {},
   "source": [
    "$A=\n",
    "\\begin{pmatrix} \n",
    "1  &  1  &  4 \\\\\n",
    "3  & -1  &  2 \\\\\n",
    "2  &  5  &  -1\n",
    "\\end{pmatrix}\n",
    "b=\n",
    "\\begin{pmatrix} \n",
    "8\\\\\n",
    "3\\\\\n",
    "-1\n",
    "\\end{pmatrix}\n",
    "c=\n",
    "\\begin{pmatrix} \n",
    "7\\\\\n",
    "-1\\\\\n",
    "5\n",
    "\\end{pmatrix}\n",
    "$"
   ]
  },
  {
   "cell_type": "markdown",
   "metadata": {},
   "source": [
    "$max: p = 7x_1 -x_2 + 5x_3$<br>\n",
    "$x_1 + x_2 + 4x_3 \\leq 8$<br>\n",
    "$3x_1 -x_2 + 2x_3 \\leq 3$<br>\n",
    "$2x_1 + 5x_2 -x_3 \\leq -1$<br>\n",
    "$x_1,x_2,x_3 \\geq 0$<br>"
   ]
  },
  {
   "cell_type": "markdown",
   "metadata": {},
   "source": [
    "Standard Form:<br>\n",
    "$max: -7x_1 + x_2 -5x_3 + p$<br>\n",
    "$x_1 + x_2 + 4x_3 +s_1= 8$<br>\n",
    "$3x_1 -x_2 + 2x_3 +s_2= 3$<br>\n",
    "$-2x_1 - 5x_2 +x_3 -s_3= 1$<br>\n",
    "$x_1,x_2,x_3,s_1,s_2,s_3 \\geq 0$<br>"
   ]
  },
  {
   "cell_type": "code",
   "execution_count": 1,
   "metadata": {},
   "outputs": [],
   "source": [
    "from IPython.display import HTML, display\n",
    "import tabulate"
   ]
  },
  {
   "cell_type": "code",
   "execution_count": 2,
   "metadata": {},
   "outputs": [
    {
     "data": {
      "text/html": [
       "<table>\n",
       "<tbody>\n",
       "<tr><td>$x_1$</td><td>$x_2$</td><td>$x_3$</td><td>$s_1$</td><td>$s_2$</td><td>$s_3$</td><td>$p$</td><td style=\"text-align: right;\"> </td></tr>\n",
       "<tr><td>1    </td><td>1    </td><td>4    </td><td>1    </td><td>0    </td><td>0    </td><td>0  </td><td style=\"text-align: right;\">8</td></tr>\n",
       "<tr><td>3    </td><td>-1   </td><td>2    </td><td>0    </td><td>1    </td><td>0    </td><td>0  </td><td style=\"text-align: right;\">3</td></tr>\n",
       "<tr><td>-2   </td><td>-5   </td><td>1    </td><td>0    </td><td>0    </td><td>-1   </td><td>0  </td><td style=\"text-align: right;\">1</td></tr>\n",
       "<tr><td>-7   </td><td>1    </td><td>-5   </td><td>0    </td><td>0    </td><td>0    </td><td>1  </td><td style=\"text-align: right;\">0</td></tr>\n",
       "</tbody>\n",
       "</table>"
      ],
      "text/plain": [
       "<IPython.core.display.HTML object>"
      ]
     },
     "metadata": {},
     "output_type": "display_data"
    }
   ],
   "source": [
    "labels = ['$x_1$' , '$x_2$' , '$x_3$', '$s_1$', '$s_2$', '$s_3$', '$p$']\n",
    "T = [\n",
    "    [1,1,4,1,0,0,0,8],\n",
    "    [3,-1,2,0,1,0,0,3],\n",
    "    [-2,-5,1,0,0,-1,0,1],\n",
    "    [-7,1,-5,0,0,0,1,0]\n",
    "]\n",
    "display(HTML(tabulate.tabulate([labels]+T, tablefmt='html')))"
   ]
  },
  {
   "cell_type": "code",
   "execution_count": 3,
   "metadata": {},
   "outputs": [
    {
     "name": "stdout",
     "output_type": "stream",
     "text": [
      "[2.0, 1.5, 1.0, 10000]\n"
     ]
    },
    {
     "data": {
      "text/html": [
       "<table>\n",
       "<tbody>\n",
       "<tr><td>$x_1$</td><td>$x_2$</td><td>$x_3$</td><td>$s_1$</td><td>$s_2$</td><td>$s_3$</td><td>$p$</td><td style=\"text-align: right;\"> </td></tr>\n",
       "<tr><td>1    </td><td>1    </td><td>4    </td><td>1    </td><td>0    </td><td>0    </td><td>0  </td><td style=\"text-align: right;\">8</td></tr>\n",
       "<tr><td>3    </td><td>-1   </td><td>2    </td><td>0    </td><td>1    </td><td>0    </td><td>0  </td><td style=\"text-align: right;\">3</td></tr>\n",
       "<tr><td>-2.0 </td><td>-5.0 </td><td>1.0  </td><td>0.0  </td><td>0.0  </td><td>-1.0 </td><td>0.0</td><td style=\"text-align: right;\">1</td></tr>\n",
       "<tr><td>-7   </td><td>1    </td><td>-5   </td><td>0    </td><td>0    </td><td>0    </td><td>1  </td><td style=\"text-align: right;\">0</td></tr>\n",
       "</tbody>\n",
       "</table>"
      ],
      "text/plain": [
       "<IPython.core.display.HTML object>"
      ]
     },
     "metadata": {},
     "output_type": "display_data"
    }
   ],
   "source": [
    "c = 2\n",
    "ratio = [((row[7]/row[c]) if ((row[7]/row[c])>0 and i!=3) else 10000) for i,row in enumerate(T)]\n",
    "r = ratio.index(min(ratio))\n",
    "print(ratio)\n",
    "v = T[r][c]\n",
    "T[r] = [(e/v) for e in T[r]]\n",
    "display(HTML(tabulate.tabulate([labels]+T, tablefmt='html')))"
   ]
  },
  {
   "cell_type": "code",
   "execution_count": 4,
   "metadata": {},
   "outputs": [
    {
     "data": {
      "text/html": [
       "<table>\n",
       "<tbody>\n",
       "<tr><td>$x_1$</td><td>$x_2$</td><td>$x_3$</td><td>$s_1$</td><td>$s_2$</td><td>$s_3$</td><td>$p$</td><td style=\"text-align: right;\"> </td></tr>\n",
       "<tr><td>9.0  </td><td>21.0 </td><td>0.0  </td><td>1.0  </td><td>0.0  </td><td>4.0  </td><td>0.0</td><td style=\"text-align: right;\">4</td></tr>\n",
       "<tr><td>7.0  </td><td>9.0  </td><td>0.0  </td><td>0.0  </td><td>1.0  </td><td>2.0  </td><td>0.0</td><td style=\"text-align: right;\">1</td></tr>\n",
       "<tr><td>-2.0 </td><td>-5.0 </td><td>1.0  </td><td>0.0  </td><td>0.0  </td><td>-1.0 </td><td>0.0</td><td style=\"text-align: right;\">1</td></tr>\n",
       "<tr><td>-17.0</td><td>-24.0</td><td>0.0  </td><td>0.0  </td><td>0.0  </td><td>-5.0 </td><td>1.0</td><td style=\"text-align: right;\">5</td></tr>\n",
       "</tbody>\n",
       "</table>"
      ],
      "text/plain": [
       "<IPython.core.display.HTML object>"
      ]
     },
     "metadata": {},
     "output_type": "display_data"
    }
   ],
   "source": [
    "for i,row in enumerate(T):\n",
    "    if i == r:\n",
    "        continue\n",
    "    T[i] = [x - T[i][c]*y for x, y in zip(T[i],T[r])]\n",
    "display(HTML(tabulate.tabulate([labels]+T, tablefmt='html')))"
   ]
  },
  {
   "cell_type": "code",
   "execution_count": 5,
   "metadata": {},
   "outputs": [
    {
     "name": "stdout",
     "output_type": "stream",
     "text": [
      "[0.19047619047619047, 0.1111111111111111, 10000, 10000]\n"
     ]
    },
    {
     "data": {
      "text/html": [
       "<table>\n",
       "<tbody>\n",
       "<tr><td>$x_1$             </td><td>$x_2$</td><td>$x_3$</td><td>$s_1$</td><td>$s_2$             </td><td>$s_3$             </td><td>$p$</td><td style=\"text-align: right;\">        </td></tr>\n",
       "<tr><td>9.0               </td><td>21.0 </td><td>0.0  </td><td>1.0  </td><td>0.0               </td><td>4.0               </td><td>0.0</td><td style=\"text-align: right;\">4       </td></tr>\n",
       "<tr><td>0.7777777777777778</td><td>1.0  </td><td>0.0  </td><td>0.0  </td><td>0.1111111111111111</td><td>0.2222222222222222</td><td>0.0</td><td style=\"text-align: right;\">0.111111</td></tr>\n",
       "<tr><td>-2.0              </td><td>-5.0 </td><td>1.0  </td><td>0.0  </td><td>0.0               </td><td>-1.0              </td><td>0.0</td><td style=\"text-align: right;\">1       </td></tr>\n",
       "<tr><td>-17.0             </td><td>-24.0</td><td>0.0  </td><td>0.0  </td><td>0.0               </td><td>-5.0              </td><td>1.0</td><td style=\"text-align: right;\">5       </td></tr>\n",
       "</tbody>\n",
       "</table>"
      ],
      "text/plain": [
       "<IPython.core.display.HTML object>"
      ]
     },
     "metadata": {},
     "output_type": "display_data"
    }
   ],
   "source": [
    "c = 1\n",
    "ratio = [((row[7]/row[c]) if ((row[7]/row[c])>0 and i!=3) else 10000) for i,row in enumerate(T)]\n",
    "r = ratio.index(min(ratio))\n",
    "print(ratio)\n",
    "v = T[r][c]\n",
    "T[r] = [(e/v) for e in T[r]]\n",
    "display(HTML(tabulate.tabulate([labels]+T, tablefmt='html')))"
   ]
  },
  {
   "cell_type": "code",
   "execution_count": 6,
   "metadata": {},
   "outputs": [
    {
     "data": {
      "text/html": [
       "<table>\n",
       "<tbody>\n",
       "<tr><td>$x_1$             </td><td>$x_2$</td><td>$x_3$</td><td>$s_1$</td><td>$s_2$             </td><td>$s_3$              </td><td>$p$</td><td style=\"text-align: right;\">        </td></tr>\n",
       "<tr><td>-7.333333333333332</td><td>0.0  </td><td>0.0  </td><td>1.0  </td><td>-2.333333333333333</td><td>-0.6666666666666661</td><td>0.0</td><td style=\"text-align: right;\">1.66667 </td></tr>\n",
       "<tr><td>0.7777777777777778</td><td>1.0  </td><td>0.0  </td><td>0.0  </td><td>0.1111111111111111</td><td>0.2222222222222222 </td><td>0.0</td><td style=\"text-align: right;\">0.111111</td></tr>\n",
       "<tr><td>1.8888888888888888</td><td>0.0  </td><td>1.0  </td><td>0.0  </td><td>0.5555555555555556</td><td>0.11111111111111116</td><td>0.0</td><td style=\"text-align: right;\">1.55556 </td></tr>\n",
       "<tr><td>1.6666666666666679</td><td>0.0  </td><td>0.0  </td><td>0.0  </td><td>2.6666666666666665</td><td>0.33333333333333304</td><td>1.0</td><td style=\"text-align: right;\">7.66667 </td></tr>\n",
       "</tbody>\n",
       "</table>"
      ],
      "text/plain": [
       "<IPython.core.display.HTML object>"
      ]
     },
     "metadata": {},
     "output_type": "display_data"
    }
   ],
   "source": [
    "for i,row in enumerate(T):\n",
    "    if i == r:\n",
    "        continue\n",
    "    T[i] = [x - T[i][c]*y for x, y in zip(T[i],T[r])]\n",
    "display(HTML(tabulate.tabulate([labels]+T, tablefmt='html')))"
   ]
  },
  {
   "cell_type": "code",
   "execution_count": null,
   "metadata": {},
   "outputs": [],
   "source": []
  }
 ],
 "metadata": {
  "kernelspec": {
   "display_name": "Python 3",
   "language": "python",
   "name": "python3"
  },
  "language_info": {
   "codemirror_mode": {
    "name": "ipython",
    "version": 3
   },
   "file_extension": ".py",
   "mimetype": "text/x-python",
   "name": "python",
   "nbconvert_exporter": "python",
   "pygments_lexer": "ipython3",
   "version": "3.7.1"
  }
 },
 "nbformat": 4,
 "nbformat_minor": 2
}
